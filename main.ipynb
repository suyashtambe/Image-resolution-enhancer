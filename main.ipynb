{
 "cells": [
  {
   "cell_type": "code",
   "execution_count": 1,
   "metadata": {},
   "outputs": [
    {
     "name": "stdout",
     "output_type": "stream",
     "text": [
      "Epoch 1/10\n",
      "50/50 [==============================] - 1010s 20s/step - loss: 0.0259 - val_loss: 0.0105\n",
      "Epoch 2/10\n",
      "50/50 [==============================] - 386s 8s/step - loss: 0.0074 - val_loss: 0.0053\n",
      "Epoch 3/10\n",
      "50/50 [==============================] - 397s 8s/step - loss: 0.0043 - val_loss: 0.0035\n",
      "Epoch 4/10\n",
      "50/50 [==============================] - 398s 8s/step - loss: 0.0031 - val_loss: 0.0028\n",
      "Epoch 5/10\n",
      "50/50 [==============================] - 381s 8s/step - loss: 0.0024 - val_loss: 0.0020\n",
      "Epoch 6/10\n",
      "50/50 [==============================] - 426s 9s/step - loss: 0.0023 - val_loss: 0.0018\n",
      "Epoch 7/10\n",
      "50/50 [==============================] - 428s 9s/step - loss: 0.0016 - val_loss: 0.0014\n",
      "Epoch 8/10\n",
      "50/50 [==============================] - 7125s 145s/step - loss: 0.0013 - val_loss: 0.0012\n",
      "Epoch 9/10\n",
      "50/50 [==============================] - 400s 8s/step - loss: 0.0011 - val_loss: 9.6750e-04\n",
      "Epoch 10/10\n",
      "50/50 [==============================] - 396s 8s/step - loss: 0.0014 - val_loss: 0.0016\n"
     ]
    },
    {
     "data": {
      "text/plain": [
       "<keras.src.callbacks.History at 0x2d6000fdc50>"
      ]
     },
     "execution_count": 1,
     "metadata": {},
     "output_type": "execute_result"
    }
   ],
   "source": [
    "import os\n",
    "import numpy as np\n",
    "from tensorflow import keras\n",
    "from tensorflow.keras import layers\n",
    "from tensorflow.keras.preprocessing.image import load_img, img_to_array, array_to_img, ImageDataGenerator\n",
    "\n",
    "# Define the paths to the DIV2K dataset\n",
    "div2k_train_dir = r'C:\\Users\\Suyash Tambe\\Desktop\\Fipl project\\DIV2K_train_HR'\n",
    "div2k_val_dir = r'C:\\Users\\Suyash Tambe\\Desktop\\Fipl project\\DIV2K_valid_HR'\n",
    "\n",
    "# Image dimensions\n",
    "input_shape = (480, 480, 3)\n",
    "\n",
    "# Load DIV2K images\n",
    "def load_div2k_images(directory):\n",
    "    images = []\n",
    "    for filename in os.listdir(directory):\n",
    "        img = load_img(os.path.join(directory, filename), target_size=input_shape)\n",
    "        img = img_to_array(img) / 255.0  # Normalize to [0, 1]\n",
    "        images.append(img)\n",
    "    return np.array(images)\n",
    "\n",
    "x_train = load_div2k_images(div2k_train_dir)\n",
    "x_val = load_div2k_images(div2k_val_dir)\n",
    "\n",
    "# Create a simple SRCNN model (you can replace this with a more advanced model)\n",
    "model = keras.Sequential([\n",
    "    layers.Conv2D(64, (9, 9), activation='relu', padding='same', input_shape=input_shape),\n",
    "    layers.Conv2D(32, (1, 1), activation='relu', padding='same'),\n",
    "    layers.Conv2D(3, (5, 5), padding='same'),\n",
    "])\n",
    "\n",
    "# Compile the model\n",
    "model.compile(optimizer='adam', loss='mean_squared_error')\n",
    "\n",
    "# Train the model\n",
    "model.fit(x_train, x_train, epochs=10, batch_size=16, validation_data=(x_val, x_val))"
   ]
  },
  {
   "cell_type": "code",
   "execution_count": 5,
   "metadata": {},
   "outputs": [
    {
     "name": "stdout",
     "output_type": "stream",
     "text": [
      "1/1 [==============================] - 0s 67ms/step\n",
      "Super-resolution complete.\n"
     ]
    }
   ],
   "source": [
    "# Use the model for super-resolution\n",
    "input_image = load_img(r'C:\\Users\\Suyash Tambe\\Desktop\\Fipl project\\WhatsApp Image 2023-09-09 at 08.59.14.jpg', target_size=input_shape)\n",
    "input_image_array = img_to_array(input_image) / 255.0  # Normalize to [0, 1]\n",
    "input_image_array = np.expand_dims(input_image_array, axis=0)  # Add batch dimension\n",
    "\n",
    "super_res_image = model.predict(input_image_array)\n",
    "\n",
    "# Save the super-resolved image\n",
    "super_res_image = array_to_img(super_res_image[0])\n",
    "super_res_image.save(r'C:\\Users\\Suyash Tambe\\Desktop\\Fipl project\\DIV2K_valid_HR\\new.png')\n",
    "\n",
    "print(\"Super-resolution complete.\")"
   ]
  },
  {
   "cell_type": "code",
   "execution_count": null,
   "metadata": {},
   "outputs": [],
   "source": []
  }
 ],
 "metadata": {
  "kernelspec": {
   "display_name": "Python 3",
   "language": "python",
   "name": "python3"
  },
  "language_info": {
   "codemirror_mode": {
    "name": "ipython",
    "version": 3
   },
   "file_extension": ".py",
   "mimetype": "text/x-python",
   "name": "python",
   "nbconvert_exporter": "python",
   "pygments_lexer": "ipython3",
   "version": "3.11.4"
  },
  "orig_nbformat": 4
 },
 "nbformat": 4,
 "nbformat_minor": 2
}
